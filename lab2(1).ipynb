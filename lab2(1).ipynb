{
 "cells": [
  {
   "cell_type": "code",
   "execution_count": 2,
   "id": "4ad1637e-c436-4666-873d-fc5d3fce454a",
   "metadata": {},
   "outputs": [
    {
     "name": "stdout",
     "output_type": "stream",
     "text": [
      "\n",
      "Dataset after Z-Score Outlier Removal: (0, 15)\n",
      "Dataset after IQR Outlier Removal: (688, 15)\n",
      "\n",
      "First 5 rows of Normalized Data:\n",
      "[[0.    0.714 0.725 0.386 0.634 0.557 0.   ]\n",
      " [0.001 0.796 0.8   0.474 0.338 0.466 1.   ]\n",
      " [0.002 0.796 0.6   0.38  0.486 0.591 0.667]\n",
      " [0.003 0.184 0.65  0.415 0.894 0.693 0.   ]\n",
      " [0.004 0.265 0.65  0.338 0.789 0.455 0.   ]]\n",
      "\n",
      "First 5 rows of Standardized Data:\n",
      "[[-1.73   1.007  0.675  0.306  0.481  1.303 -0.724]\n",
      " [-1.726  1.432  1.462  0.785 -1.14   0.57   2.487]\n",
      " [-1.723  1.432 -0.637  0.27  -0.33   1.578  1.417]\n",
      " [-1.719 -1.753 -0.112  0.459  1.909  2.403 -0.724]\n",
      " [-1.715 -1.328 -0.112  0.044  1.33   0.478 -0.724]]\n"
     ]
    }
   ],
   "source": [
    "import numpy as np\n",
    "import pandas as pd\n",
    "from sklearn.preprocessing import StandardScaler, MinMaxScaler\n",
    "from scipy import stats\n",
    "\n",
    "# Load your dataset\n",
    "df = pd.read_csv('heart_disease_uci.csv')\n",
    "\n",
    "# Split into features and target\n",
    "X = df.drop(columns=['num'])  # Replace 'target' with actual target column\n",
    "y = df['num']\n",
    "\n",
    "# Ensure that all columns are numeric before performing Z-score outlier detection\n",
    "X_numeric = X.select_dtypes(include=[np.number])\n",
    "\n",
    "# Step 10: Outlier Detection\n",
    "\n",
    "# Detect outliers using Z-score on numeric data only\n",
    "z_scores = np.abs(stats.zscore(X_numeric))\n",
    "X_zscore = X[(z_scores < 3).all(axis=1)]\n",
    "y_zscore = y[(z_scores < 3).all(axis=1)]\n",
    "\n",
    "print(f\"\\nDataset after Z-Score Outlier Removal: {X_zscore.shape}\")\n",
    "\n",
    "# Detect outliers using IQR\n",
    "Q1 = X_numeric.quantile(0.25)\n",
    "Q3 = X_numeric.quantile(0.75)\n",
    "IQR = Q3 - Q1\n",
    "X_iqr = X[~((X_numeric < (Q1 - 1.5 * IQR)) | (X_numeric > (Q3 + 1.5 * IQR))).any(axis=1)]\n",
    "y_iqr = y[~((X_numeric < (Q1 - 1.5 * IQR)) | (X_numeric > (Q3 + 1.5 * IQR))).any(axis=1)]\n",
    "\n",
    "print(f\"Dataset after IQR Outlier Removal: {X_iqr.shape}\")\n",
    "\n",
    "# Step 11: Feature Scaling\n",
    "\n",
    "# Feature scaling (Normalization and Standardization)\n",
    "scaler_norm = MinMaxScaler()\n",
    "scaler_std = StandardScaler()\n",
    "\n",
    "# Apply scaling to the numeric data\n",
    "X_normalized = scaler_norm.fit_transform(X_numeric)\n",
    "X_standardized = scaler_std.fit_transform(X_numeric)\n",
    "\n",
    "# Display first 5 rows of normalized and standardized data\n",
    "print(\"\\nFirst 5 rows of Normalized Data:\")\n",
    "print(np.round(X_normalized[:5], 3))\n",
    "\n",
    "print(\"\\nFirst 5 rows of Standardized Data:\")\n",
    "print(np.round(X_standardized[:5], 3))"
   ]
  },
  {
   "cell_type": "code",
   "execution_count": null,
   "id": "84baec8c-81d7-45fc-86c2-384c7d97a6e1",
   "metadata": {},
   "outputs": [],
   "source": []
  }
 ],
 "metadata": {
  "kernelspec": {
   "display_name": "Python 3 (ipykernel)",
   "language": "python",
   "name": "python3"
  },
  "language_info": {
   "codemirror_mode": {
    "name": "ipython",
    "version": 3
   },
   "file_extension": ".py",
   "mimetype": "text/x-python",
   "name": "python",
   "nbconvert_exporter": "python",
   "pygments_lexer": "ipython3",
   "version": "3.12.6"
  }
 },
 "nbformat": 4,
 "nbformat_minor": 5
}
